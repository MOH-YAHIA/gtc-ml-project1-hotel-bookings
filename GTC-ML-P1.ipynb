{
 "cells": [
  {
   "cell_type": "code",
   "execution_count": 2,
   "id": "d0df03f2",
   "metadata": {},
   "outputs": [],
   "source": [
    "import pandas as pd\n",
    "import matplotlib.pyplot as plt\n",
    "import seaborn as sns\n",
    "from sklearn.preprocessing import OneHotEncoder"
   ]
  },
  {
   "cell_type": "markdown",
   "id": "e9c89a43",
   "metadata": {},
   "source": [
    "# Data Load"
   ]
  },
  {
   "cell_type": "code",
   "execution_count": 3,
   "id": "91ce397f",
   "metadata": {},
   "outputs": [],
   "source": [
    "df=pd.read_csv('hotel_bookings.csv')"
   ]
  },
  {
   "cell_type": "code",
   "execution_count": 4,
   "id": "d34623eb",
   "metadata": {},
   "outputs": [
    {
     "data": {
      "text/html": [
       "<div>\n",
       "<style scoped>\n",
       "    .dataframe tbody tr th:only-of-type {\n",
       "        vertical-align: middle;\n",
       "    }\n",
       "\n",
       "    .dataframe tbody tr th {\n",
       "        vertical-align: top;\n",
       "    }\n",
       "\n",
       "    .dataframe thead th {\n",
       "        text-align: right;\n",
       "    }\n",
       "</style>\n",
       "<table border=\"1\" class=\"dataframe\">\n",
       "  <thead>\n",
       "    <tr style=\"text-align: right;\">\n",
       "      <th></th>\n",
       "      <th>hotel</th>\n",
       "      <th>is_canceled</th>\n",
       "      <th>lead_time</th>\n",
       "      <th>arrival_date_year</th>\n",
       "      <th>arrival_date_month</th>\n",
       "      <th>arrival_date_week_number</th>\n",
       "      <th>arrival_date_day_of_month</th>\n",
       "      <th>stays_in_weekend_nights</th>\n",
       "      <th>stays_in_week_nights</th>\n",
       "      <th>adults</th>\n",
       "      <th>...</th>\n",
       "      <th>deposit_type</th>\n",
       "      <th>agent</th>\n",
       "      <th>company</th>\n",
       "      <th>days_in_waiting_list</th>\n",
       "      <th>customer_type</th>\n",
       "      <th>adr</th>\n",
       "      <th>required_car_parking_spaces</th>\n",
       "      <th>total_of_special_requests</th>\n",
       "      <th>reservation_status</th>\n",
       "      <th>reservation_status_date</th>\n",
       "    </tr>\n",
       "  </thead>\n",
       "  <tbody>\n",
       "    <tr>\n",
       "      <th>0</th>\n",
       "      <td>Resort Hotel</td>\n",
       "      <td>0</td>\n",
       "      <td>342</td>\n",
       "      <td>2015</td>\n",
       "      <td>July</td>\n",
       "      <td>27</td>\n",
       "      <td>1</td>\n",
       "      <td>0</td>\n",
       "      <td>0</td>\n",
       "      <td>2</td>\n",
       "      <td>...</td>\n",
       "      <td>No Deposit</td>\n",
       "      <td>NaN</td>\n",
       "      <td>NaN</td>\n",
       "      <td>0</td>\n",
       "      <td>Transient</td>\n",
       "      <td>0.0</td>\n",
       "      <td>0</td>\n",
       "      <td>0</td>\n",
       "      <td>Check-Out</td>\n",
       "      <td>2015-07-01</td>\n",
       "    </tr>\n",
       "    <tr>\n",
       "      <th>1</th>\n",
       "      <td>Resort Hotel</td>\n",
       "      <td>0</td>\n",
       "      <td>737</td>\n",
       "      <td>2015</td>\n",
       "      <td>July</td>\n",
       "      <td>27</td>\n",
       "      <td>1</td>\n",
       "      <td>0</td>\n",
       "      <td>0</td>\n",
       "      <td>2</td>\n",
       "      <td>...</td>\n",
       "      <td>No Deposit</td>\n",
       "      <td>NaN</td>\n",
       "      <td>NaN</td>\n",
       "      <td>0</td>\n",
       "      <td>Transient</td>\n",
       "      <td>0.0</td>\n",
       "      <td>0</td>\n",
       "      <td>0</td>\n",
       "      <td>Check-Out</td>\n",
       "      <td>2015-07-01</td>\n",
       "    </tr>\n",
       "    <tr>\n",
       "      <th>2</th>\n",
       "      <td>Resort Hotel</td>\n",
       "      <td>0</td>\n",
       "      <td>7</td>\n",
       "      <td>2015</td>\n",
       "      <td>July</td>\n",
       "      <td>27</td>\n",
       "      <td>1</td>\n",
       "      <td>0</td>\n",
       "      <td>1</td>\n",
       "      <td>1</td>\n",
       "      <td>...</td>\n",
       "      <td>No Deposit</td>\n",
       "      <td>NaN</td>\n",
       "      <td>NaN</td>\n",
       "      <td>0</td>\n",
       "      <td>Transient</td>\n",
       "      <td>75.0</td>\n",
       "      <td>0</td>\n",
       "      <td>0</td>\n",
       "      <td>Check-Out</td>\n",
       "      <td>2015-07-02</td>\n",
       "    </tr>\n",
       "    <tr>\n",
       "      <th>3</th>\n",
       "      <td>Resort Hotel</td>\n",
       "      <td>0</td>\n",
       "      <td>13</td>\n",
       "      <td>2015</td>\n",
       "      <td>July</td>\n",
       "      <td>27</td>\n",
       "      <td>1</td>\n",
       "      <td>0</td>\n",
       "      <td>1</td>\n",
       "      <td>1</td>\n",
       "      <td>...</td>\n",
       "      <td>No Deposit</td>\n",
       "      <td>304.0</td>\n",
       "      <td>NaN</td>\n",
       "      <td>0</td>\n",
       "      <td>Transient</td>\n",
       "      <td>75.0</td>\n",
       "      <td>0</td>\n",
       "      <td>0</td>\n",
       "      <td>Check-Out</td>\n",
       "      <td>2015-07-02</td>\n",
       "    </tr>\n",
       "    <tr>\n",
       "      <th>4</th>\n",
       "      <td>Resort Hotel</td>\n",
       "      <td>0</td>\n",
       "      <td>14</td>\n",
       "      <td>2015</td>\n",
       "      <td>July</td>\n",
       "      <td>27</td>\n",
       "      <td>1</td>\n",
       "      <td>0</td>\n",
       "      <td>2</td>\n",
       "      <td>2</td>\n",
       "      <td>...</td>\n",
       "      <td>No Deposit</td>\n",
       "      <td>240.0</td>\n",
       "      <td>NaN</td>\n",
       "      <td>0</td>\n",
       "      <td>Transient</td>\n",
       "      <td>98.0</td>\n",
       "      <td>0</td>\n",
       "      <td>1</td>\n",
       "      <td>Check-Out</td>\n",
       "      <td>2015-07-03</td>\n",
       "    </tr>\n",
       "  </tbody>\n",
       "</table>\n",
       "<p>5 rows × 32 columns</p>\n",
       "</div>"
      ],
      "text/plain": [
       "          hotel  is_canceled  lead_time  arrival_date_year arrival_date_month  \\\n",
       "0  Resort Hotel            0        342               2015               July   \n",
       "1  Resort Hotel            0        737               2015               July   \n",
       "2  Resort Hotel            0          7               2015               July   \n",
       "3  Resort Hotel            0         13               2015               July   \n",
       "4  Resort Hotel            0         14               2015               July   \n",
       "\n",
       "   arrival_date_week_number  arrival_date_day_of_month  \\\n",
       "0                        27                          1   \n",
       "1                        27                          1   \n",
       "2                        27                          1   \n",
       "3                        27                          1   \n",
       "4                        27                          1   \n",
       "\n",
       "   stays_in_weekend_nights  stays_in_week_nights  adults  ...  deposit_type  \\\n",
       "0                        0                     0       2  ...    No Deposit   \n",
       "1                        0                     0       2  ...    No Deposit   \n",
       "2                        0                     1       1  ...    No Deposit   \n",
       "3                        0                     1       1  ...    No Deposit   \n",
       "4                        0                     2       2  ...    No Deposit   \n",
       "\n",
       "   agent company days_in_waiting_list customer_type   adr  \\\n",
       "0    NaN     NaN                    0     Transient   0.0   \n",
       "1    NaN     NaN                    0     Transient   0.0   \n",
       "2    NaN     NaN                    0     Transient  75.0   \n",
       "3  304.0     NaN                    0     Transient  75.0   \n",
       "4  240.0     NaN                    0     Transient  98.0   \n",
       "\n",
       "   required_car_parking_spaces  total_of_special_requests  reservation_status  \\\n",
       "0                            0                          0           Check-Out   \n",
       "1                            0                          0           Check-Out   \n",
       "2                            0                          0           Check-Out   \n",
       "3                            0                          0           Check-Out   \n",
       "4                            0                          1           Check-Out   \n",
       "\n",
       "  reservation_status_date  \n",
       "0              2015-07-01  \n",
       "1              2015-07-01  \n",
       "2              2015-07-02  \n",
       "3              2015-07-02  \n",
       "4              2015-07-03  \n",
       "\n",
       "[5 rows x 32 columns]"
      ]
     },
     "execution_count": 4,
     "metadata": {},
     "output_type": "execute_result"
    }
   ],
   "source": [
    "df.head()"
   ]
  },
  {
   "cell_type": "code",
   "execution_count": 5,
   "id": "1035c95a",
   "metadata": {},
   "outputs": [
    {
     "name": "stdout",
     "output_type": "stream",
     "text": [
      "<class 'pandas.core.frame.DataFrame'>\n",
      "RangeIndex: 119390 entries, 0 to 119389\n",
      "Data columns (total 32 columns):\n",
      " #   Column                          Non-Null Count   Dtype  \n",
      "---  ------                          --------------   -----  \n",
      " 0   hotel                           119390 non-null  object \n",
      " 1   is_canceled                     119390 non-null  int64  \n",
      " 2   lead_time                       119390 non-null  int64  \n",
      " 3   arrival_date_year               119390 non-null  int64  \n",
      " 4   arrival_date_month              119390 non-null  object \n",
      " 5   arrival_date_week_number        119390 non-null  int64  \n",
      " 6   arrival_date_day_of_month       119390 non-null  int64  \n",
      " 7   stays_in_weekend_nights         119390 non-null  int64  \n",
      " 8   stays_in_week_nights            119390 non-null  int64  \n",
      " 9   adults                          119390 non-null  int64  \n",
      " 10  children                        119386 non-null  float64\n",
      " 11  babies                          119390 non-null  int64  \n",
      " 12  meal                            119390 non-null  object \n",
      " 13  country                         118902 non-null  object \n",
      " 14  market_segment                  119390 non-null  object \n",
      " 15  distribution_channel            119390 non-null  object \n",
      " 16  is_repeated_guest               119390 non-null  int64  \n",
      " 17  previous_cancellations          119390 non-null  int64  \n",
      " 18  previous_bookings_not_canceled  119390 non-null  int64  \n",
      " 19  reserved_room_type              119390 non-null  object \n",
      " 20  assigned_room_type              119390 non-null  object \n",
      " 21  booking_changes                 119390 non-null  int64  \n",
      " 22  deposit_type                    119390 non-null  object \n",
      " 23  agent                           103050 non-null  float64\n",
      " 24  company                         6797 non-null    float64\n",
      " 25  days_in_waiting_list            119390 non-null  int64  \n",
      " 26  customer_type                   119390 non-null  object \n",
      " 27  adr                             119390 non-null  float64\n",
      " 28  required_car_parking_spaces     119390 non-null  int64  \n",
      " 29  total_of_special_requests       119390 non-null  int64  \n",
      " 30  reservation_status              119390 non-null  object \n",
      " 31  reservation_status_date         119390 non-null  object \n",
      "dtypes: float64(4), int64(16), object(12)\n",
      "memory usage: 29.1+ MB\n"
     ]
    }
   ],
   "source": [
    "df.info()"
   ]
  },
  {
   "cell_type": "markdown",
   "id": "b92f64b8",
   "metadata": {},
   "source": [
    "# Data Quality "
   ]
  },
  {
   "cell_type": "markdown",
   "id": "1f5fbc57",
   "metadata": {},
   "source": [
    "## Completness"
   ]
  },
  {
   "cell_type": "code",
   "execution_count": 6,
   "id": "53f43d43",
   "metadata": {},
   "outputs": [
    {
     "name": "stdout",
     "output_type": "stream",
     "text": [
      "hotel                                  0\n",
      "is_canceled                            0\n",
      "lead_time                              0\n",
      "arrival_date_year                      0\n",
      "arrival_date_month                     0\n",
      "arrival_date_week_number               0\n",
      "arrival_date_day_of_month              0\n",
      "stays_in_weekend_nights                0\n",
      "stays_in_week_nights                   0\n",
      "adults                                 0\n",
      "children                               4\n",
      "babies                                 0\n",
      "meal                                   0\n",
      "country                              488\n",
      "market_segment                         0\n",
      "distribution_channel                   0\n",
      "is_repeated_guest                      0\n",
      "previous_cancellations                 0\n",
      "previous_bookings_not_canceled         0\n",
      "reserved_room_type                     0\n",
      "assigned_room_type                     0\n",
      "booking_changes                        0\n",
      "deposit_type                           0\n",
      "agent                              16340\n",
      "company                           112593\n",
      "days_in_waiting_list                   0\n",
      "customer_type                          0\n",
      "adr                                    0\n",
      "required_car_parking_spaces            0\n",
      "total_of_special_requests              0\n",
      "reservation_status                     0\n",
      "reservation_status_date                0\n",
      "dtype: int64\n",
      "3.387663330262166\n"
     ]
    }
   ],
   "source": [
    "print(df.isna().sum())\n",
    "print(df.isna().sum().sum() / (df.shape[0]*df.shape[1]) *100)"
   ]
  },
  {
   "cell_type": "code",
   "execution_count": 7,
   "id": "affc45ae",
   "metadata": {},
   "outputs": [
    {
     "data": {
      "text/plain": [
       "'\\n4 columns have null values\\n    country 488 \\n    agent   16340\\n    company 112593\\n    children 4\\n\\n3.38 % is missing values\\n'"
      ]
     },
     "execution_count": 7,
     "metadata": {},
     "output_type": "execute_result"
    }
   ],
   "source": [
    "'''\n",
    "4 columns have null values\n",
    "    country 488 \n",
    "    agent   16340\n",
    "    company 112593\n",
    "    children 4\n",
    "\n",
    "3.38 % is missing values\n",
    "'''"
   ]
  },
  {
   "cell_type": "markdown",
   "id": "3d42b25a",
   "metadata": {},
   "source": [
    "## Uniqueness"
   ]
  },
  {
   "cell_type": "code",
   "execution_count": 8,
   "id": "094a6715",
   "metadata": {},
   "outputs": [
    {
     "data": {
      "text/plain": [
       "31994"
      ]
     },
     "execution_count": 8,
     "metadata": {},
     "output_type": "execute_result"
    }
   ],
   "source": [
    "df.duplicated().sum()"
   ]
  },
  {
   "cell_type": "code",
   "execution_count": 9,
   "id": "00edca58",
   "metadata": {},
   "outputs": [
    {
     "data": {
      "text/plain": [
       "'\\ndataset contain 31994 dublicate rows\\n'"
      ]
     },
     "execution_count": 9,
     "metadata": {},
     "output_type": "execute_result"
    }
   ],
   "source": [
    "'''\n",
    "dataset contain 31994 dublicate rows\n",
    "'''"
   ]
  },
  {
   "cell_type": "markdown",
   "id": "5ea161ce",
   "metadata": {},
   "source": [
    "## Validity"
   ]
  },
  {
   "cell_type": "code",
   "execution_count": 10,
   "id": "38802289",
   "metadata": {},
   "outputs": [
    {
     "data": {
      "text/plain": [
       "hotel                              object\n",
       "is_canceled                         int64\n",
       "lead_time                           int64\n",
       "arrival_date_year                   int64\n",
       "arrival_date_month                 object\n",
       "arrival_date_week_number            int64\n",
       "arrival_date_day_of_month           int64\n",
       "stays_in_weekend_nights             int64\n",
       "stays_in_week_nights                int64\n",
       "adults                              int64\n",
       "children                          float64\n",
       "babies                              int64\n",
       "meal                               object\n",
       "country                            object\n",
       "market_segment                     object\n",
       "distribution_channel               object\n",
       "is_repeated_guest                   int64\n",
       "previous_cancellations              int64\n",
       "previous_bookings_not_canceled      int64\n",
       "reserved_room_type                 object\n",
       "assigned_room_type                 object\n",
       "booking_changes                     int64\n",
       "deposit_type                       object\n",
       "agent                             float64\n",
       "company                           float64\n",
       "days_in_waiting_list                int64\n",
       "customer_type                      object\n",
       "adr                               float64\n",
       "required_car_parking_spaces         int64\n",
       "total_of_special_requests           int64\n",
       "reservation_status                 object\n",
       "reservation_status_date            object\n",
       "dtype: object"
      ]
     },
     "execution_count": 10,
     "metadata": {},
     "output_type": "execute_result"
    }
   ],
   "source": [
    "df.dtypes"
   ]
  },
  {
   "cell_type": "code",
   "execution_count": 11,
   "id": "8cca74f0",
   "metadata": {},
   "outputs": [
    {
     "data": {
      "text/html": [
       "<div>\n",
       "<style scoped>\n",
       "    .dataframe tbody tr th:only-of-type {\n",
       "        vertical-align: middle;\n",
       "    }\n",
       "\n",
       "    .dataframe tbody tr th {\n",
       "        vertical-align: top;\n",
       "    }\n",
       "\n",
       "    .dataframe thead th {\n",
       "        text-align: right;\n",
       "    }\n",
       "</style>\n",
       "<table border=\"1\" class=\"dataframe\">\n",
       "  <thead>\n",
       "    <tr style=\"text-align: right;\">\n",
       "      <th></th>\n",
       "      <th>is_canceled</th>\n",
       "      <th>lead_time</th>\n",
       "      <th>arrival_date_year</th>\n",
       "      <th>arrival_date_week_number</th>\n",
       "      <th>arrival_date_day_of_month</th>\n",
       "      <th>stays_in_weekend_nights</th>\n",
       "      <th>stays_in_week_nights</th>\n",
       "      <th>adults</th>\n",
       "      <th>children</th>\n",
       "      <th>babies</th>\n",
       "      <th>is_repeated_guest</th>\n",
       "      <th>previous_cancellations</th>\n",
       "      <th>previous_bookings_not_canceled</th>\n",
       "      <th>booking_changes</th>\n",
       "      <th>agent</th>\n",
       "      <th>company</th>\n",
       "      <th>days_in_waiting_list</th>\n",
       "      <th>adr</th>\n",
       "      <th>required_car_parking_spaces</th>\n",
       "      <th>total_of_special_requests</th>\n",
       "    </tr>\n",
       "  </thead>\n",
       "  <tbody>\n",
       "    <tr>\n",
       "      <th>count</th>\n",
       "      <td>119390.000000</td>\n",
       "      <td>119390.000000</td>\n",
       "      <td>119390.000000</td>\n",
       "      <td>119390.000000</td>\n",
       "      <td>119390.000000</td>\n",
       "      <td>119390.000000</td>\n",
       "      <td>119390.000000</td>\n",
       "      <td>119390.000000</td>\n",
       "      <td>119386.000000</td>\n",
       "      <td>119390.000000</td>\n",
       "      <td>119390.000000</td>\n",
       "      <td>119390.000000</td>\n",
       "      <td>119390.000000</td>\n",
       "      <td>119390.000000</td>\n",
       "      <td>103050.000000</td>\n",
       "      <td>6797.000000</td>\n",
       "      <td>119390.000000</td>\n",
       "      <td>119390.000000</td>\n",
       "      <td>119390.000000</td>\n",
       "      <td>119390.000000</td>\n",
       "    </tr>\n",
       "    <tr>\n",
       "      <th>mean</th>\n",
       "      <td>0.370416</td>\n",
       "      <td>104.011416</td>\n",
       "      <td>2016.156554</td>\n",
       "      <td>27.165173</td>\n",
       "      <td>15.798241</td>\n",
       "      <td>0.927599</td>\n",
       "      <td>2.500302</td>\n",
       "      <td>1.856403</td>\n",
       "      <td>0.103890</td>\n",
       "      <td>0.007949</td>\n",
       "      <td>0.031912</td>\n",
       "      <td>0.087118</td>\n",
       "      <td>0.137097</td>\n",
       "      <td>0.221124</td>\n",
       "      <td>86.693382</td>\n",
       "      <td>189.266735</td>\n",
       "      <td>2.321149</td>\n",
       "      <td>101.831122</td>\n",
       "      <td>0.062518</td>\n",
       "      <td>0.571363</td>\n",
       "    </tr>\n",
       "    <tr>\n",
       "      <th>std</th>\n",
       "      <td>0.482918</td>\n",
       "      <td>106.863097</td>\n",
       "      <td>0.707476</td>\n",
       "      <td>13.605138</td>\n",
       "      <td>8.780829</td>\n",
       "      <td>0.998613</td>\n",
       "      <td>1.908286</td>\n",
       "      <td>0.579261</td>\n",
       "      <td>0.398561</td>\n",
       "      <td>0.097436</td>\n",
       "      <td>0.175767</td>\n",
       "      <td>0.844336</td>\n",
       "      <td>1.497437</td>\n",
       "      <td>0.652306</td>\n",
       "      <td>110.774548</td>\n",
       "      <td>131.655015</td>\n",
       "      <td>17.594721</td>\n",
       "      <td>50.535790</td>\n",
       "      <td>0.245291</td>\n",
       "      <td>0.792798</td>\n",
       "    </tr>\n",
       "    <tr>\n",
       "      <th>min</th>\n",
       "      <td>0.000000</td>\n",
       "      <td>0.000000</td>\n",
       "      <td>2015.000000</td>\n",
       "      <td>1.000000</td>\n",
       "      <td>1.000000</td>\n",
       "      <td>0.000000</td>\n",
       "      <td>0.000000</td>\n",
       "      <td>0.000000</td>\n",
       "      <td>0.000000</td>\n",
       "      <td>0.000000</td>\n",
       "      <td>0.000000</td>\n",
       "      <td>0.000000</td>\n",
       "      <td>0.000000</td>\n",
       "      <td>0.000000</td>\n",
       "      <td>1.000000</td>\n",
       "      <td>6.000000</td>\n",
       "      <td>0.000000</td>\n",
       "      <td>-6.380000</td>\n",
       "      <td>0.000000</td>\n",
       "      <td>0.000000</td>\n",
       "    </tr>\n",
       "    <tr>\n",
       "      <th>25%</th>\n",
       "      <td>0.000000</td>\n",
       "      <td>18.000000</td>\n",
       "      <td>2016.000000</td>\n",
       "      <td>16.000000</td>\n",
       "      <td>8.000000</td>\n",
       "      <td>0.000000</td>\n",
       "      <td>1.000000</td>\n",
       "      <td>2.000000</td>\n",
       "      <td>0.000000</td>\n",
       "      <td>0.000000</td>\n",
       "      <td>0.000000</td>\n",
       "      <td>0.000000</td>\n",
       "      <td>0.000000</td>\n",
       "      <td>0.000000</td>\n",
       "      <td>9.000000</td>\n",
       "      <td>62.000000</td>\n",
       "      <td>0.000000</td>\n",
       "      <td>69.290000</td>\n",
       "      <td>0.000000</td>\n",
       "      <td>0.000000</td>\n",
       "    </tr>\n",
       "    <tr>\n",
       "      <th>50%</th>\n",
       "      <td>0.000000</td>\n",
       "      <td>69.000000</td>\n",
       "      <td>2016.000000</td>\n",
       "      <td>28.000000</td>\n",
       "      <td>16.000000</td>\n",
       "      <td>1.000000</td>\n",
       "      <td>2.000000</td>\n",
       "      <td>2.000000</td>\n",
       "      <td>0.000000</td>\n",
       "      <td>0.000000</td>\n",
       "      <td>0.000000</td>\n",
       "      <td>0.000000</td>\n",
       "      <td>0.000000</td>\n",
       "      <td>0.000000</td>\n",
       "      <td>14.000000</td>\n",
       "      <td>179.000000</td>\n",
       "      <td>0.000000</td>\n",
       "      <td>94.575000</td>\n",
       "      <td>0.000000</td>\n",
       "      <td>0.000000</td>\n",
       "    </tr>\n",
       "    <tr>\n",
       "      <th>75%</th>\n",
       "      <td>1.000000</td>\n",
       "      <td>160.000000</td>\n",
       "      <td>2017.000000</td>\n",
       "      <td>38.000000</td>\n",
       "      <td>23.000000</td>\n",
       "      <td>2.000000</td>\n",
       "      <td>3.000000</td>\n",
       "      <td>2.000000</td>\n",
       "      <td>0.000000</td>\n",
       "      <td>0.000000</td>\n",
       "      <td>0.000000</td>\n",
       "      <td>0.000000</td>\n",
       "      <td>0.000000</td>\n",
       "      <td>0.000000</td>\n",
       "      <td>229.000000</td>\n",
       "      <td>270.000000</td>\n",
       "      <td>0.000000</td>\n",
       "      <td>126.000000</td>\n",
       "      <td>0.000000</td>\n",
       "      <td>1.000000</td>\n",
       "    </tr>\n",
       "    <tr>\n",
       "      <th>max</th>\n",
       "      <td>1.000000</td>\n",
       "      <td>737.000000</td>\n",
       "      <td>2017.000000</td>\n",
       "      <td>53.000000</td>\n",
       "      <td>31.000000</td>\n",
       "      <td>19.000000</td>\n",
       "      <td>50.000000</td>\n",
       "      <td>55.000000</td>\n",
       "      <td>10.000000</td>\n",
       "      <td>10.000000</td>\n",
       "      <td>1.000000</td>\n",
       "      <td>26.000000</td>\n",
       "      <td>72.000000</td>\n",
       "      <td>21.000000</td>\n",
       "      <td>535.000000</td>\n",
       "      <td>543.000000</td>\n",
       "      <td>391.000000</td>\n",
       "      <td>5400.000000</td>\n",
       "      <td>8.000000</td>\n",
       "      <td>5.000000</td>\n",
       "    </tr>\n",
       "  </tbody>\n",
       "</table>\n",
       "</div>"
      ],
      "text/plain": [
       "         is_canceled      lead_time  arrival_date_year  \\\n",
       "count  119390.000000  119390.000000      119390.000000   \n",
       "mean        0.370416     104.011416        2016.156554   \n",
       "std         0.482918     106.863097           0.707476   \n",
       "min         0.000000       0.000000        2015.000000   \n",
       "25%         0.000000      18.000000        2016.000000   \n",
       "50%         0.000000      69.000000        2016.000000   \n",
       "75%         1.000000     160.000000        2017.000000   \n",
       "max         1.000000     737.000000        2017.000000   \n",
       "\n",
       "       arrival_date_week_number  arrival_date_day_of_month  \\\n",
       "count             119390.000000              119390.000000   \n",
       "mean                  27.165173                  15.798241   \n",
       "std                   13.605138                   8.780829   \n",
       "min                    1.000000                   1.000000   \n",
       "25%                   16.000000                   8.000000   \n",
       "50%                   28.000000                  16.000000   \n",
       "75%                   38.000000                  23.000000   \n",
       "max                   53.000000                  31.000000   \n",
       "\n",
       "       stays_in_weekend_nights  stays_in_week_nights         adults  \\\n",
       "count            119390.000000         119390.000000  119390.000000   \n",
       "mean                  0.927599              2.500302       1.856403   \n",
       "std                   0.998613              1.908286       0.579261   \n",
       "min                   0.000000              0.000000       0.000000   \n",
       "25%                   0.000000              1.000000       2.000000   \n",
       "50%                   1.000000              2.000000       2.000000   \n",
       "75%                   2.000000              3.000000       2.000000   \n",
       "max                  19.000000             50.000000      55.000000   \n",
       "\n",
       "            children         babies  is_repeated_guest  \\\n",
       "count  119386.000000  119390.000000      119390.000000   \n",
       "mean        0.103890       0.007949           0.031912   \n",
       "std         0.398561       0.097436           0.175767   \n",
       "min         0.000000       0.000000           0.000000   \n",
       "25%         0.000000       0.000000           0.000000   \n",
       "50%         0.000000       0.000000           0.000000   \n",
       "75%         0.000000       0.000000           0.000000   \n",
       "max        10.000000      10.000000           1.000000   \n",
       "\n",
       "       previous_cancellations  previous_bookings_not_canceled  \\\n",
       "count           119390.000000                   119390.000000   \n",
       "mean                 0.087118                        0.137097   \n",
       "std                  0.844336                        1.497437   \n",
       "min                  0.000000                        0.000000   \n",
       "25%                  0.000000                        0.000000   \n",
       "50%                  0.000000                        0.000000   \n",
       "75%                  0.000000                        0.000000   \n",
       "max                 26.000000                       72.000000   \n",
       "\n",
       "       booking_changes          agent      company  days_in_waiting_list  \\\n",
       "count    119390.000000  103050.000000  6797.000000         119390.000000   \n",
       "mean          0.221124      86.693382   189.266735              2.321149   \n",
       "std           0.652306     110.774548   131.655015             17.594721   \n",
       "min           0.000000       1.000000     6.000000              0.000000   \n",
       "25%           0.000000       9.000000    62.000000              0.000000   \n",
       "50%           0.000000      14.000000   179.000000              0.000000   \n",
       "75%           0.000000     229.000000   270.000000              0.000000   \n",
       "max          21.000000     535.000000   543.000000            391.000000   \n",
       "\n",
       "                 adr  required_car_parking_spaces  total_of_special_requests  \n",
       "count  119390.000000                119390.000000              119390.000000  \n",
       "mean      101.831122                     0.062518                   0.571363  \n",
       "std        50.535790                     0.245291                   0.792798  \n",
       "min        -6.380000                     0.000000                   0.000000  \n",
       "25%        69.290000                     0.000000                   0.000000  \n",
       "50%        94.575000                     0.000000                   0.000000  \n",
       "75%       126.000000                     0.000000                   1.000000  \n",
       "max      5400.000000                     8.000000                   5.000000  "
      ]
     },
     "execution_count": 11,
     "metadata": {},
     "output_type": "execute_result"
    }
   ],
   "source": [
    "df.describe()"
   ]
  },
  {
   "cell_type": "code",
   "execution_count": 12,
   "id": "d40b2394",
   "metadata": {},
   "outputs": [
    {
     "data": {
      "image/png": "[encoded data removed]",
      "text/plain": [
       "<Figure size 720x360 with 1 Axes>"
      ]
     },
     "metadata": {
      "needs_background": "light"
     },
     "output_type": "display_data"
    },
    {
     "data": {
      "image/png": "[encoded data removed]",
      "text/plain": [
       "<Figure size 720x360 with 1 Axes>"
      ]
     },
     "metadata": {
      "needs_background": "light"
     },
     "output_type": "display_data"
    },
    {
     "data": {
      "image/png": "[encoded data removed]",
      "text/plain": [
       "<Figure size 720x360 with 1 Axes>"
      ]
     },
     "metadata": {
      "needs_background": "light"
     },
     "output_type": "display_data"
    },
    {
     "data": {
      "image/png": "[encoded data removed]",
      "text/plain": [
       "<Figure size 720x360 with 1 Axes>"
      ]
     },
     "metadata": {
      "needs_background": "light"
     },
     "output_type": "display_data"
    },
    {
     "data": {
      "image/png": "[encoded data removed]",
      "text/plain": [
       "<Figure size 720x360 with 1 Axes>"
      ]
     },
     "metadata": {
      "needs_background": "light"
     },
     "output_type": "display_data"
    },
    {
     "data": {
      "image/png": "[encoded data removed]",
      "text/plain": [
       "<Figure size 720x360 with 1 Axes>"
      ]
     },
     "metadata": {
      "needs_background": "light"
     },
     "output_type": "display_data"
    },
    {
     "data": {
      "image/png": "[encoded data removed]",
      "text/plain": [
       "<Figure size 720x360 with 1 Axes>"
      ]
     },
     "metadata": {
      "needs_background": "light"
     },
     "output_type": "display_data"
    },
    {
     "data": {
      "image/png": "[encoded data removed]",
      "text/plain": [
       "<Figure size 720x360 with 1 Axes>"
      ]
     },
     "metadata": {
      "needs_background": "light"
     },
     "output_type": "display_data"
    },
    {
     "data": {
      "image/png": "[encoded data removed]",
      "text/plain": [
       "<Figure size 720x360 with 1 Axes>"
      ]
     },
     "metadata": {
      "needs_background": "light"
     },
     "output_type": "display_data"
    },
    {
     "data": {
      "image/png": "[encoded data removed]",
      "text/plain": [
       "<Figure size 720x360 with 1 Axes>"
      ]
     },
     "metadata": {
      "needs_background": "light"
     },
     "output_type": "display_data"
    },
    {
     "data": {
      "image/png": "[encoded data removed]",
      "text/plain": [
       "<Figure size 720x360 with 1 Axes>"
      ]
     },
     "metadata": {
      "needs_background": "light"
     },
     "output_type": "display_data"
    }
   ],
   "source": [
    "key_numerical_cols = [\n",
    "    \"lead_time\",\n",
    "    \"stays_in_weekend_nights\",\n",
    "    \"stays_in_week_nights\",\n",
    "    \"adults\",\n",
    "    \"children\",\n",
    "    \"babies\",\n",
    "    \"adr\",\n",
    "    \"required_car_parking_spaces\",\n",
    "    \"total_of_special_requests\",\n",
    "    \"previous_cancellations\",\n",
    "    \"previous_bookings_not_canceled\"\n",
    "]\n",
    "\n",
    "for col in key_numerical_cols:\n",
    "    plt.figure(figsize=(10,5))\n",
    "    sns.boxplot(data=df,x=col)\n",
    "    plt.show()"
   ]
  },
  {
   "cell_type": "code",
   "execution_count": 13,
   "id": "ae2a6bff",
   "metadata": {},
   "outputs": [
    {
     "data": {
      "text/plain": [
       "'\\nthese columns contain siqnificant outliers\\n    \"lead_time\",\\n    \"stays_in_weekend_nights\",\\n    \"stays_in_week_nights\",\\n    \"adr\",\\n    \"total_of_special_requests\",\\n\\ncompany take float type as it should be category\\n'"
      ]
     },
     "execution_count": 13,
     "metadata": {},
     "output_type": "execute_result"
    }
   ],
   "source": [
    "'''\n",
    "these columns contain siqnificant outliers\n",
    "    \"lead_time\",\n",
    "    \"stays_in_weekend_nights\",\n",
    "    \"stays_in_week_nights\",\n",
    "    \"adr\",\n",
    "    \"total_of_special_requests\",\n",
    "\n",
    "company take float type as it should be category\n",
    "'''"
   ]
  },
  {
   "cell_type": "markdown",
   "id": "1a54c705",
   "metadata": {},
   "source": [
    "## Consistency"
   ]
  },
  {
   "cell_type": "code",
   "execution_count": 14,
   "id": "d1a8fdf3",
   "metadata": {},
   "outputs": [
    {
     "data": {
      "text/plain": [
       "['ABW',\n",
       " 'AGO',\n",
       " 'AIA',\n",
       " 'ALB',\n",
       " 'AND',\n",
       " 'ARE',\n",
       " 'ARG',\n",
       " 'ARM',\n",
       " 'ASM',\n",
       " 'ATA',\n",
       " 'ATF',\n",
       " 'AUS',\n",
       " 'AUT',\n",
       " 'AZE',\n",
       " 'BDI',\n",
       " 'BEL',\n",
       " 'BEN',\n",
       " 'BFA',\n",
       " 'BGD',\n",
       " 'BGR',\n",
       " 'BHR',\n",
       " 'BHS',\n",
       " 'BIH',\n",
       " 'BLR',\n",
       " 'BOL',\n",
       " 'BRA',\n",
       " 'BRB',\n",
       " 'BWA',\n",
       " 'CAF',\n",
       " 'CHE',\n",
       " 'CHL',\n",
       " 'CHN',\n",
       " 'CIV',\n",
       " 'CMR',\n",
       " 'CN',\n",
       " 'COL',\n",
       " 'COM',\n",
       " 'CPV',\n",
       " 'CRI',\n",
       " 'CUB',\n",
       " 'CYM',\n",
       " 'CYP',\n",
       " 'CZE',\n",
       " 'DEU',\n",
       " 'DJI',\n",
       " 'DMA',\n",
       " 'DNK',\n",
       " 'DOM',\n",
       " 'DZA',\n",
       " 'ECU',\n",
       " 'EGY',\n",
       " 'ESP',\n",
       " 'EST',\n",
       " 'ETH',\n",
       " 'FIN',\n",
       " 'FJI',\n",
       " 'FRA',\n",
       " 'FRO',\n",
       " 'GAB',\n",
       " 'GBR',\n",
       " 'GEO',\n",
       " 'GGY',\n",
       " 'GHA',\n",
       " 'GIB',\n",
       " 'GLP',\n",
       " 'GNB',\n",
       " 'GRC',\n",
       " 'GTM',\n",
       " 'GUY',\n",
       " 'HKG',\n",
       " 'HND',\n",
       " 'HRV',\n",
       " 'HUN',\n",
       " 'IDN',\n",
       " 'IMN',\n",
       " 'IND',\n",
       " 'IRL',\n",
       " 'IRN',\n",
       " 'IRQ',\n",
       " 'ISL',\n",
       " 'ISR',\n",
       " 'ITA',\n",
       " 'JAM',\n",
       " 'JEY',\n",
       " 'JOR',\n",
       " 'JPN',\n",
       " 'KAZ',\n",
       " 'KEN',\n",
       " 'KHM',\n",
       " 'KIR',\n",
       " 'KNA',\n",
       " 'KOR',\n",
       " 'KWT',\n",
       " 'LAO',\n",
       " 'LBN',\n",
       " 'LBY',\n",
       " 'LCA',\n",
       " 'LIE',\n",
       " 'LKA',\n",
       " 'LTU',\n",
       " 'LUX',\n",
       " 'LVA',\n",
       " 'MAC',\n",
       " 'MAR',\n",
       " 'MCO',\n",
       " 'MDG',\n",
       " 'MDV',\n",
       " 'MEX',\n",
       " 'MKD',\n",
       " 'MLI',\n",
       " 'MLT',\n",
       " 'MMR',\n",
       " 'MNE',\n",
       " 'MOZ',\n",
       " 'MRT',\n",
       " 'MUS',\n",
       " 'MWI',\n",
       " 'MYS',\n",
       " 'MYT',\n",
       " 'NAM',\n",
       " 'NCL',\n",
       " 'NGA',\n",
       " 'NIC',\n",
       " 'NLD',\n",
       " 'NOR',\n",
       " 'NPL',\n",
       " 'NZL',\n",
       " 'OMN',\n",
       " 'PAK',\n",
       " 'PAN',\n",
       " 'PER',\n",
       " 'PHL',\n",
       " 'PLW',\n",
       " 'POL',\n",
       " 'PRI',\n",
       " 'PRT',\n",
       " 'PRY',\n",
       " 'PYF',\n",
       " 'QAT',\n",
       " 'ROU',\n",
       " 'RUS',\n",
       " 'RWA',\n",
       " 'SAU',\n",
       " 'SDN',\n",
       " 'SEN',\n",
       " 'SGP',\n",
       " 'SLE',\n",
       " 'SLV',\n",
       " 'SMR',\n",
       " 'SRB',\n",
       " 'STP',\n",
       " 'SUR',\n",
       " 'SVK',\n",
       " 'SVN',\n",
       " 'SWE',\n",
       " 'SYC',\n",
       " 'SYR',\n",
       " 'TGO',\n",
       " 'THA',\n",
       " 'TJK',\n",
       " 'TMP',\n",
       " 'TUN',\n",
       " 'TUR',\n",
       " 'TWN',\n",
       " 'TZA',\n",
       " 'UGA',\n",
       " 'UKR',\n",
       " 'UMI',\n",
       " 'URY',\n",
       " 'USA',\n",
       " 'UZB',\n",
       " 'VEN',\n",
       " 'VGB',\n",
       " 'VNM',\n",
       " 'ZAF',\n",
       " 'ZMB',\n",
       " 'ZWE']"
      ]
     },
     "execution_count": 14,
     "metadata": {},
     "output_type": "execute_result"
    }
   ],
   "source": [
    "sorted(df['country'].dropna().unique())"
   ]
  },
  {
   "cell_type": "markdown",
   "id": "0357ae86",
   "metadata": {},
   "source": [
    "# 📝 Data Quality Report  "
   ]
  },
  {
   "cell_type": "markdown",
   "id": "810c0f0c",
   "metadata": {},
   "source": [
    "## 1. Missing Values  \n",
    "- The dataset contains missing values in **three columns**:  \n",
    "  - `country`: **488** missing entries  \n",
    "  - `agent`: **16,340** missing entries  \n",
    "  - `company`: **112,593** missing entries  \n",
    "  - `children`: **4** missing entries\n",
    "- Overall, **3.38% of the dataset has missing values**.  \n",
    "\n",
    "---\n",
    "\n",
    "## 2. Duplicate Records  \n",
    "- The dataset contains **31,994 duplicate rows**.  \n",
    "\n",
    "---\n",
    "\n",
    "## 3. Outliers Detected  \n",
    "Significant outliers were identified in the following **key numerical columns**:  \n",
    "- `lead_time`  \n",
    "- `stays_in_weekend_nights`  \n",
    "- `stays_in_week_nights`   \n",
    "- `adr`  \n",
    "- `total_of_special_requests`  \n",
    "\n",
    "---\n",
    "\n",
    "## 4. Data Type Issues    \n",
    "- **`company`**: Currently stored as `float`, should be treated as a **categorical variable**.  \n",
    "\n",
    "---\n",
    "\n",
    "## 5. Data Leakage    \n",
    "- **`reservation_status`** and **`reservation_status_date`** These columns contain information that would not be available at the time of prediction and would make the model **useless in a real-world scenario**.\n"
   ]
  },
  {
   "cell_type": "markdown",
   "id": "4349622c",
   "metadata": {},
   "source": [
    "# Data Cleaning"
   ]
  },
  {
   "cell_type": "markdown",
   "id": "035f87e7",
   "metadata": {},
   "source": [
    "## Data Lekage"
   ]
  },
  {
   "cell_type": "code",
   "execution_count": 15,
   "id": "bc28b5de",
   "metadata": {},
   "outputs": [],
   "source": [
    "df.drop(columns=['reservation_status','reservation_status_date'],inplace=True)"
   ]
  },
  {
   "cell_type": "markdown",
   "id": "9604ece9",
   "metadata": {},
   "source": [
    "## Dtypes "
   ]
  },
  {
   "cell_type": "code",
   "execution_count": 16,
   "id": "53524cd7",
   "metadata": {},
   "outputs": [],
   "source": [
    "df['company']=df['company'].astype('object')"
   ]
  },
  {
   "cell_type": "code",
   "execution_count": 17,
   "id": "1e6e8651",
   "metadata": {},
   "outputs": [],
   "source": [
    "for col in df.drop(columns=['company']).select_dtypes(include=['object']):\n",
    "    df[col]=df[col].astype('category')"
   ]
  },
  {
   "cell_type": "markdown",
   "id": "e0ee9e1c",
   "metadata": {},
   "source": [
    "## Missing Values"
   ]
  },
  {
   "cell_type": "code",
   "execution_count": 18,
   "id": "eaebc0c4",
   "metadata": {},
   "outputs": [],
   "source": [
    "df['company']=df['company'].fillna('None')"
   ]
  },
  {
   "cell_type": "code",
   "execution_count": 19,
   "id": "1b129085",
   "metadata": {},
   "outputs": [],
   "source": [
    "df['agent']=df['agent'].fillna(0)"
   ]
  },
  {
   "cell_type": "code",
   "execution_count": 20,
   "id": "6c963c1b",
   "metadata": {},
   "outputs": [],
   "source": [
    "df['country']=df['country'].cat.add_categories('Unknown')"
   ]
  },
  {
   "cell_type": "code",
   "execution_count": 21,
   "id": "ddff3a2d",
   "metadata": {},
   "outputs": [],
   "source": [
    "df['country']=df['country'].fillna('Unknown')"
   ]
  },
  {
   "cell_type": "code",
   "execution_count": 22,
   "id": "92cd31a7",
   "metadata": {},
   "outputs": [],
   "source": [
    "df['children']=df['children'].fillna(df['children'].median())"
   ]
  },
  {
   "cell_type": "code",
   "execution_count": 23,
   "id": "46f62705",
   "metadata": {},
   "outputs": [
    {
     "data": {
      "text/plain": [
       "0"
      ]
     },
     "execution_count": 23,
     "metadata": {},
     "output_type": "execute_result"
    }
   ],
   "source": [
    "df.isna().sum().sum()"
   ]
  },
  {
   "cell_type": "markdown",
   "id": "ef8dde37",
   "metadata": {},
   "source": [
    "## Duplicates"
   ]
  },
  {
   "cell_type": "code",
   "execution_count": 24,
   "id": "36e2eb37",
   "metadata": {},
   "outputs": [],
   "source": [
    "df.drop_duplicates(inplace=True)"
   ]
  },
  {
   "cell_type": "code",
   "execution_count": 25,
   "id": "7a4ec763",
   "metadata": {},
   "outputs": [
    {
     "data": {
      "text/plain": [
       "0"
      ]
     },
     "execution_count": 25,
     "metadata": {},
     "output_type": "execute_result"
    }
   ],
   "source": [
    "df.duplicated().sum()"
   ]
  },
  {
   "cell_type": "markdown",
   "id": "d4c2b84b",
   "metadata": {},
   "source": [
    "## Outliers"
   ]
  },
  {
   "cell_type": "code",
   "execution_count": 26,
   "id": "82908561",
   "metadata": {},
   "outputs": [
    {
     "name": "stderr",
     "output_type": "stream",
     "text": [
      "c:\\Users\\moham\\anaconda3\\lib\\site-packages\\seaborn\\_decorators.py:36: FutureWarning: Pass the following variable as a keyword arg: x. From version 0.12, the only valid positional argument will be `data`, and passing other arguments without an explicit keyword will result in an error or misinterpretation.\n",
      "  warnings.warn(\n"
     ]
    },
    {
     "data": {
      "image/png": "[encoded data removed]",
      "text/plain": [
       "<Figure size 576x288 with 1 Axes>"
      ]
     },
     "metadata": {
      "needs_background": "light"
     },
     "output_type": "display_data"
    }
   ],
   "source": [
    "plt.figure(figsize=(8,4))\n",
    "sns.boxplot(df['adults'])\n",
    "plt.show()"
   ]
  },
  {
   "cell_type": "code",
   "execution_count": 27,
   "id": "ffd330ef",
   "metadata": {},
   "outputs": [
    {
     "data": {
      "text/plain": [
       "\"\\nhaving zero adualts in a reservation dons't make sence so it seem like error ->drop it\\nclip value above 10 \\n\""
      ]
     },
     "execution_count": 27,
     "metadata": {},
     "output_type": "execute_result"
    }
   ],
   "source": [
    "'''\n",
    "having zero adualts in a reservation dons't make sence so it seem like error ->drop it\n",
    "clip value above 10 \n",
    "'''"
   ]
  },
  {
   "cell_type": "code",
   "execution_count": 28,
   "id": "71479ba3",
   "metadata": {},
   "outputs": [],
   "source": [
    "df.drop(df[df['adults']==0].index,inplace=True)\n",
    "df['adults']=df['adults'].clip(upper=10)"
   ]
  },
  {
   "cell_type": "code",
   "execution_count": 29,
   "id": "7b12fac2",
   "metadata": {},
   "outputs": [],
   "source": [
    "key_numerical_cols_outliers=[\"lead_time\",\n",
    "    \"stays_in_weekend_nights\",\n",
    "    \"stays_in_week_nights\",\n",
    "    \"adr\",\n",
    "    \"total_of_special_requests\"]"
   ]
  },
  {
   "cell_type": "code",
   "execution_count": 30,
   "id": "2e30fdb7",
   "metadata": {},
   "outputs": [],
   "source": [
    "for col in key_numerical_cols_outliers:\n",
    "    q1=df[col].quantile(0.25)\n",
    "    q3=df[col].quantile(0.75)\n",
    "    iqr=q3-q1\n",
    "    lower_cap=q1-iqr*1.5\n",
    "    upper_cap=q3+iqr*1.5\n",
    "    df[col].clip(lower=lower_cap,upper=upper_cap,inplace=True)"
   ]
  },
  {
   "cell_type": "markdown",
   "id": "694ed29b",
   "metadata": {},
   "source": [
    "# Feature Engineering & Preprocessing"
   ]
  },
  {
   "cell_type": "markdown",
   "id": "c429939e",
   "metadata": {},
   "source": [
    "## New Features"
   ]
  },
  {
   "cell_type": "code",
   "execution_count": 31,
   "id": "3a1b4ce2",
   "metadata": {},
   "outputs": [],
   "source": [
    "df['total_guests'] = df['adults'] + df['children'] + df['babies']"
   ]
  },
  {
   "cell_type": "code",
   "execution_count": 32,
   "id": "5d8af8a1",
   "metadata": {},
   "outputs": [],
   "source": [
    "df['total_nights'] = df['stays_in_weekend_nights'] + df['stays_in_week_nights']"
   ]
  },
  {
   "cell_type": "code",
   "execution_count": 33,
   "id": "3062600d",
   "metadata": {},
   "outputs": [],
   "source": [
    "df['is_family']=(df['babies']>0) | (df['children']>0)"
   ]
  },
  {
   "cell_type": "markdown",
   "id": "8bdcdf73",
   "metadata": {},
   "source": [
    "## Encode Categorical Variables"
   ]
  },
  {
   "cell_type": "code",
   "execution_count": 34,
   "id": "98fba946",
   "metadata": {},
   "outputs": [
    {
     "name": "stdout",
     "output_type": "stream",
     "text": [
      "<class 'pandas.core.frame.DataFrame'>\n",
      "Int64Index: 86753 entries, 0 to 119389\n",
      "Data columns (total 33 columns):\n",
      " #   Column                          Non-Null Count  Dtype   \n",
      "---  ------                          --------------  -----   \n",
      " 0   hotel                           86753 non-null  category\n",
      " 1   is_canceled                     86753 non-null  int64   \n",
      " 2   lead_time                       86753 non-null  float64 \n",
      " 3   arrival_date_year               86753 non-null  int64   \n",
      " 4   arrival_date_month              86753 non-null  category\n",
      " 5   arrival_date_week_number        86753 non-null  int64   \n",
      " 6   arrival_date_day_of_month       86753 non-null  int64   \n",
      " 7   stays_in_weekend_nights         86753 non-null  float64 \n",
      " 8   stays_in_week_nights            86753 non-null  float64 \n",
      " 9   adults                          86753 non-null  int64   \n",
      " 10  children                        86753 non-null  float64 \n",
      " 11  babies                          86753 non-null  int64   \n",
      " 12  meal                            86753 non-null  category\n",
      " 13  country                         86753 non-null  category\n",
      " 14  market_segment                  86753 non-null  category\n",
      " 15  distribution_channel            86753 non-null  category\n",
      " 16  is_repeated_guest               86753 non-null  int64   \n",
      " 17  previous_cancellations          86753 non-null  int64   \n",
      " 18  previous_bookings_not_canceled  86753 non-null  int64   \n",
      " 19  reserved_room_type              86753 non-null  category\n",
      " 20  assigned_room_type              86753 non-null  category\n",
      " 21  booking_changes                 86753 non-null  int64   \n",
      " 22  deposit_type                    86753 non-null  category\n",
      " 23  agent                           86753 non-null  float64 \n",
      " 24  company                         86753 non-null  object  \n",
      " 25  days_in_waiting_list            86753 non-null  int64   \n",
      " 26  customer_type                   86753 non-null  category\n",
      " 27  adr                             86753 non-null  float64 \n",
      " 28  required_car_parking_spaces     86753 non-null  int64   \n",
      " 29  total_of_special_requests       86753 non-null  float64 \n",
      " 30  total_guests                    86753 non-null  float64 \n",
      " 31  total_nights                    86753 non-null  float64 \n",
      " 32  is_family                       86753 non-null  bool    \n",
      "dtypes: bool(1), category(10), float64(9), int64(12), object(1)\n",
      "memory usage: 16.2+ MB\n"
     ]
    }
   ],
   "source": [
    "df.info()"
   ]
  },
  {
   "cell_type": "code",
   "execution_count": 35,
   "id": "62ae4bd9",
   "metadata": {},
   "outputs": [],
   "source": [
    "category_col=list(df.select_dtypes(include=['object','category']).columns)"
   ]
  },
  {
   "cell_type": "code",
   "execution_count": 36,
   "id": "49253ac6",
   "metadata": {},
   "outputs": [
    {
     "name": "stdout",
     "output_type": "stream",
     "text": [
      "hotel 2\n",
      "arrival_date_month 12\n",
      "meal 5\n",
      "country 178\n",
      "market_segment 8\n",
      "distribution_channel 5\n",
      "reserved_room_type 9\n",
      "assigned_room_type 11\n",
      "deposit_type 3\n",
      "company 349\n",
      "customer_type 4\n"
     ]
    }
   ],
   "source": [
    "for col in category_col:\n",
    "    print(col, df[col].nunique())"
   ]
  },
  {
   "cell_type": "code",
   "execution_count": 37,
   "id": "796939ef",
   "metadata": {},
   "outputs": [],
   "source": [
    "category_col_below_9=[col for col in category_col if df[col].nunique()<9]\n",
    "category_col_above_9=[col for col in category_col if df[col].nunique()>9]"
   ]
  },
  {
   "cell_type": "code",
   "execution_count": 38,
   "id": "849bf9e7",
   "metadata": {},
   "outputs": [],
   "source": [
    "for col in category_col_above_9:\n",
    "    freq_encoding=df[col].value_counts()\n",
    "    df[col]=df[col].map(freq_encoding)"
   ]
  },
  {
   "cell_type": "code",
   "execution_count": 39,
   "id": "6d62c371",
   "metadata": {},
   "outputs": [],
   "source": [
    "one_hot_encoder=OneHotEncoder(sparse_output=False)"
   ]
  },
  {
   "cell_type": "code",
   "execution_count": 40,
   "id": "7a0ea580",
   "metadata": {},
   "outputs": [],
   "source": [
    "encoded_X=one_hot_encoder.fit_transform(df[category_col_below_9])"
   ]
  },
  {
   "cell_type": "code",
   "execution_count": 41,
   "id": "4e8b5adf",
   "metadata": {},
   "outputs": [],
   "source": [
    "temp=pd.DataFrame(encoded_X,columns=one_hot_encoder.get_feature_names_out(),index=df.index)"
   ]
  },
  {
   "cell_type": "code",
   "execution_count": 42,
   "id": "832329a0",
   "metadata": {},
   "outputs": [],
   "source": [
    "df=pd.concat([df,temp],axis=1)"
   ]
  },
  {
   "cell_type": "code",
   "execution_count": 43,
   "id": "41360713",
   "metadata": {},
   "outputs": [],
   "source": [
    "df.drop(columns=category_col,inplace=True)"
   ]
  },
  {
   "cell_type": "code",
   "execution_count": 44,
   "id": "3e3b1598",
   "metadata": {},
   "outputs": [
    {
     "name": "stdout",
     "output_type": "stream",
     "text": [
      "<class 'pandas.core.frame.DataFrame'>\n",
      "Int64Index: 86753 entries, 0 to 119389\n",
      "Data columns (total 49 columns):\n",
      " #   Column                          Non-Null Count  Dtype  \n",
      "---  ------                          --------------  -----  \n",
      " 0   is_canceled                     86753 non-null  int64  \n",
      " 1   lead_time                       86753 non-null  float64\n",
      " 2   arrival_date_year               86753 non-null  int64  \n",
      " 3   arrival_date_week_number        86753 non-null  int64  \n",
      " 4   arrival_date_day_of_month       86753 non-null  int64  \n",
      " 5   stays_in_weekend_nights         86753 non-null  float64\n",
      " 6   stays_in_week_nights            86753 non-null  float64\n",
      " 7   adults                          86753 non-null  int64  \n",
      " 8   children                        86753 non-null  float64\n",
      " 9   babies                          86753 non-null  int64  \n",
      " 10  is_repeated_guest               86753 non-null  int64  \n",
      " 11  previous_cancellations          86753 non-null  int64  \n",
      " 12  previous_bookings_not_canceled  86753 non-null  int64  \n",
      " 13  booking_changes                 86753 non-null  int64  \n",
      " 14  agent                           86753 non-null  float64\n",
      " 15  days_in_waiting_list            86753 non-null  int64  \n",
      " 16  adr                             86753 non-null  float64\n",
      " 17  required_car_parking_spaces     86753 non-null  int64  \n",
      " 18  total_of_special_requests       86753 non-null  float64\n",
      " 19  total_guests                    86753 non-null  float64\n",
      " 20  total_nights                    86753 non-null  float64\n",
      " 21  is_family                       86753 non-null  bool   \n",
      " 22  hotel_City Hotel                86753 non-null  float64\n",
      " 23  hotel_Resort Hotel              86753 non-null  float64\n",
      " 24  meal_BB                         86753 non-null  float64\n",
      " 25  meal_FB                         86753 non-null  float64\n",
      " 26  meal_HB                         86753 non-null  float64\n",
      " 27  meal_SC                         86753 non-null  float64\n",
      " 28  meal_Undefined                  86753 non-null  float64\n",
      " 29  market_segment_Aviation         86753 non-null  float64\n",
      " 30  market_segment_Complementary    86753 non-null  float64\n",
      " 31  market_segment_Corporate        86753 non-null  float64\n",
      " 32  market_segment_Direct           86753 non-null  float64\n",
      " 33  market_segment_Groups           86753 non-null  float64\n",
      " 34  market_segment_Offline TA/TO    86753 non-null  float64\n",
      " 35  market_segment_Online TA        86753 non-null  float64\n",
      " 36  market_segment_Undefined        86753 non-null  float64\n",
      " 37  distribution_channel_Corporate  86753 non-null  float64\n",
      " 38  distribution_channel_Direct     86753 non-null  float64\n",
      " 39  distribution_channel_GDS        86753 non-null  float64\n",
      " 40  distribution_channel_TA/TO      86753 non-null  float64\n",
      " 41  distribution_channel_Undefined  86753 non-null  float64\n",
      " 42  deposit_type_No Deposit         86753 non-null  float64\n",
      " 43  deposit_type_Non Refund         86753 non-null  float64\n",
      " 44  deposit_type_Refundable         86753 non-null  float64\n",
      " 45  customer_type_Contract          86753 non-null  float64\n",
      " 46  customer_type_Group             86753 non-null  float64\n",
      " 47  customer_type_Transient         86753 non-null  float64\n",
      " 48  customer_type_Transient-Party   86753 non-null  float64\n",
      "dtypes: bool(1), float64(36), int64(12)\n",
      "memory usage: 32.5 MB\n"
     ]
    }
   ],
   "source": [
    "df.info()"
   ]
  },
  {
   "cell_type": "code",
   "execution_count": 45,
   "id": "46a3ccff",
   "metadata": {},
   "outputs": [
    {
     "data": {
      "text/plain": [
       "(86753, 49)"
      ]
     },
     "execution_count": 45,
     "metadata": {},
     "output_type": "execute_result"
    }
   ],
   "source": [
    "df.shape"
   ]
  },
  {
   "cell_type": "code",
   "execution_count": 46,
   "id": "34e6f8a4",
   "metadata": {},
   "outputs": [
    {
     "data": {
      "text/html": [
       "<div>\n",
       "<style scoped>\n",
       "    .dataframe tbody tr th:only-of-type {\n",
       "        vertical-align: middle;\n",
       "    }\n",
       "\n",
       "    .dataframe tbody tr th {\n",
       "        vertical-align: top;\n",
       "    }\n",
       "\n",
       "    .dataframe thead th {\n",
       "        text-align: right;\n",
       "    }\n",
       "</style>\n",
       "<table border=\"1\" class=\"dataframe\">\n",
       "  <thead>\n",
       "    <tr style=\"text-align: right;\">\n",
       "      <th></th>\n",
       "      <th>is_canceled</th>\n",
       "      <th>lead_time</th>\n",
       "      <th>arrival_date_year</th>\n",
       "      <th>arrival_date_week_number</th>\n",
       "      <th>arrival_date_day_of_month</th>\n",
       "      <th>stays_in_weekend_nights</th>\n",
       "      <th>stays_in_week_nights</th>\n",
       "      <th>adults</th>\n",
       "      <th>children</th>\n",
       "      <th>babies</th>\n",
       "      <th>...</th>\n",
       "      <th>distribution_channel_GDS</th>\n",
       "      <th>distribution_channel_TA/TO</th>\n",
       "      <th>distribution_channel_Undefined</th>\n",
       "      <th>deposit_type_No Deposit</th>\n",
       "      <th>deposit_type_Non Refund</th>\n",
       "      <th>deposit_type_Refundable</th>\n",
       "      <th>customer_type_Contract</th>\n",
       "      <th>customer_type_Group</th>\n",
       "      <th>customer_type_Transient</th>\n",
       "      <th>customer_type_Transient-Party</th>\n",
       "    </tr>\n",
       "  </thead>\n",
       "  <tbody>\n",
       "    <tr>\n",
       "      <th>119385</th>\n",
       "      <td>0</td>\n",
       "      <td>23.0</td>\n",
       "      <td>2017</td>\n",
       "      <td>35</td>\n",
       "      <td>30</td>\n",
       "      <td>2.0</td>\n",
       "      <td>5.0</td>\n",
       "      <td>2</td>\n",
       "      <td>0.0</td>\n",
       "      <td>0</td>\n",
       "      <td>...</td>\n",
       "      <td>0.0</td>\n",
       "      <td>1.0</td>\n",
       "      <td>0.0</td>\n",
       "      <td>1.0</td>\n",
       "      <td>0.0</td>\n",
       "      <td>0.0</td>\n",
       "      <td>0.0</td>\n",
       "      <td>0.0</td>\n",
       "      <td>1.0</td>\n",
       "      <td>0.0</td>\n",
       "    </tr>\n",
       "    <tr>\n",
       "      <th>119386</th>\n",
       "      <td>0</td>\n",
       "      <td>102.0</td>\n",
       "      <td>2017</td>\n",
       "      <td>35</td>\n",
       "      <td>31</td>\n",
       "      <td>2.0</td>\n",
       "      <td>5.0</td>\n",
       "      <td>3</td>\n",
       "      <td>0.0</td>\n",
       "      <td>0</td>\n",
       "      <td>...</td>\n",
       "      <td>0.0</td>\n",
       "      <td>1.0</td>\n",
       "      <td>0.0</td>\n",
       "      <td>1.0</td>\n",
       "      <td>0.0</td>\n",
       "      <td>0.0</td>\n",
       "      <td>0.0</td>\n",
       "      <td>0.0</td>\n",
       "      <td>1.0</td>\n",
       "      <td>0.0</td>\n",
       "    </tr>\n",
       "    <tr>\n",
       "      <th>119387</th>\n",
       "      <td>0</td>\n",
       "      <td>34.0</td>\n",
       "      <td>2017</td>\n",
       "      <td>35</td>\n",
       "      <td>31</td>\n",
       "      <td>2.0</td>\n",
       "      <td>5.0</td>\n",
       "      <td>2</td>\n",
       "      <td>0.0</td>\n",
       "      <td>0</td>\n",
       "      <td>...</td>\n",
       "      <td>0.0</td>\n",
       "      <td>1.0</td>\n",
       "      <td>0.0</td>\n",
       "      <td>1.0</td>\n",
       "      <td>0.0</td>\n",
       "      <td>0.0</td>\n",
       "      <td>0.0</td>\n",
       "      <td>0.0</td>\n",
       "      <td>1.0</td>\n",
       "      <td>0.0</td>\n",
       "    </tr>\n",
       "    <tr>\n",
       "      <th>119388</th>\n",
       "      <td>0</td>\n",
       "      <td>109.0</td>\n",
       "      <td>2017</td>\n",
       "      <td>35</td>\n",
       "      <td>31</td>\n",
       "      <td>2.0</td>\n",
       "      <td>5.0</td>\n",
       "      <td>2</td>\n",
       "      <td>0.0</td>\n",
       "      <td>0</td>\n",
       "      <td>...</td>\n",
       "      <td>0.0</td>\n",
       "      <td>1.0</td>\n",
       "      <td>0.0</td>\n",
       "      <td>1.0</td>\n",
       "      <td>0.0</td>\n",
       "      <td>0.0</td>\n",
       "      <td>0.0</td>\n",
       "      <td>0.0</td>\n",
       "      <td>1.0</td>\n",
       "      <td>0.0</td>\n",
       "    </tr>\n",
       "    <tr>\n",
       "      <th>119389</th>\n",
       "      <td>0</td>\n",
       "      <td>205.0</td>\n",
       "      <td>2017</td>\n",
       "      <td>35</td>\n",
       "      <td>29</td>\n",
       "      <td>2.0</td>\n",
       "      <td>7.0</td>\n",
       "      <td>2</td>\n",
       "      <td>0.0</td>\n",
       "      <td>0</td>\n",
       "      <td>...</td>\n",
       "      <td>0.0</td>\n",
       "      <td>1.0</td>\n",
       "      <td>0.0</td>\n",
       "      <td>1.0</td>\n",
       "      <td>0.0</td>\n",
       "      <td>0.0</td>\n",
       "      <td>0.0</td>\n",
       "      <td>0.0</td>\n",
       "      <td>1.0</td>\n",
       "      <td>0.0</td>\n",
       "    </tr>\n",
       "  </tbody>\n",
       "</table>\n",
       "<p>5 rows × 49 columns</p>\n",
       "</div>"
      ],
      "text/plain": [
       "        is_canceled  lead_time  arrival_date_year  arrival_date_week_number  \\\n",
       "119385            0       23.0               2017                        35   \n",
       "119386            0      102.0               2017                        35   \n",
       "119387            0       34.0               2017                        35   \n",
       "119388            0      109.0               2017                        35   \n",
       "119389            0      205.0               2017                        35   \n",
       "\n",
       "        arrival_date_day_of_month  stays_in_weekend_nights  \\\n",
       "119385                         30                      2.0   \n",
       "119386                         31                      2.0   \n",
       "119387                         31                      2.0   \n",
       "119388                         31                      2.0   \n",
       "119389                         29                      2.0   \n",
       "\n",
       "        stays_in_week_nights  adults  children  babies  ...  \\\n",
       "119385                   5.0       2       0.0       0  ...   \n",
       "119386                   5.0       3       0.0       0  ...   \n",
       "119387                   5.0       2       0.0       0  ...   \n",
       "119388                   5.0       2       0.0       0  ...   \n",
       "119389                   7.0       2       0.0       0  ...   \n",
       "\n",
       "        distribution_channel_GDS  distribution_channel_TA/TO  \\\n",
       "119385                       0.0                         1.0   \n",
       "119386                       0.0                         1.0   \n",
       "119387                       0.0                         1.0   \n",
       "119388                       0.0                         1.0   \n",
       "119389                       0.0                         1.0   \n",
       "\n",
       "        distribution_channel_Undefined  deposit_type_No Deposit  \\\n",
       "119385                             0.0                      1.0   \n",
       "119386                             0.0                      1.0   \n",
       "119387                             0.0                      1.0   \n",
       "119388                             0.0                      1.0   \n",
       "119389                             0.0                      1.0   \n",
       "\n",
       "        deposit_type_Non Refund  deposit_type_Refundable  \\\n",
       "119385                      0.0                      0.0   \n",
       "119386                      0.0                      0.0   \n",
       "119387                      0.0                      0.0   \n",
       "119388                      0.0                      0.0   \n",
       "119389                      0.0                      0.0   \n",
       "\n",
       "        customer_type_Contract  customer_type_Group  customer_type_Transient  \\\n",
       "119385                     0.0                  0.0                      1.0   \n",
       "119386                     0.0                  0.0                      1.0   \n",
       "119387                     0.0                  0.0                      1.0   \n",
       "119388                     0.0                  0.0                      1.0   \n",
       "119389                     0.0                  0.0                      1.0   \n",
       "\n",
       "        customer_type_Transient-Party  \n",
       "119385                            0.0  \n",
       "119386                            0.0  \n",
       "119387                            0.0  \n",
       "119388                            0.0  \n",
       "119389                            0.0  \n",
       "\n",
       "[5 rows x 49 columns]"
      ]
     },
     "execution_count": 46,
     "metadata": {},
     "output_type": "execute_result"
    }
   ],
   "source": [
    "df.tail()"
   ]
  },
  {
   "cell_type": "markdown",
   "id": "c2a2af88",
   "metadata": {},
   "source": [
    "# Data Split"
   ]
  },
  {
   "cell_type": "code",
   "execution_count": 47,
   "id": "c1545e47",
   "metadata": {},
   "outputs": [],
   "source": [
    "from sklearn.model_selection import train_test_split"
   ]
  },
  {
   "cell_type": "code",
   "execution_count": 49,
   "id": "4b44c404",
   "metadata": {},
   "outputs": [],
   "source": [
    "X=df.drop(columns='is_canceled')\n",
    "y=df['is_canceled']"
   ]
  },
  {
   "cell_type": "code",
   "execution_count": null,
   "id": "abf2a885",
   "metadata": {},
   "outputs": [],
   "source": [
    "X_train,X_test,y_train,y_test=train_test_split(X,y,test_size=0.2,random_state=42)"
   ]
  }
 ],
 "metadata": {
  "kernelspec": {
   "display_name": "base",
   "language": "python",
   "name": "python3"
  },
  "language_info": {
   "codemirror_mode": {
    "name": "ipython",
    "version": 3
   },
   "file_extension": ".py",
   "mimetype": "text/x-python",
   "name": "python",
   "nbconvert_exporter": "python",
   "pygments_lexer": "ipython3",
   "version": "3.9.12"
  }
 },
 "nbformat": 4,
 "nbformat_minor": 5
}
